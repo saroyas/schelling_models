{
 "cells": [
  {
   "cell_type": "code",
   "execution_count": 151,
   "metadata": {
    "collapsed": true,
    "pycharm": {
     "is_executing": false
    }
   },
   "outputs": [],
   "source": [
    "import matplotlib.pyplot as plt\n",
    "import itertools\n",
    "import random\n",
    "import copy\n",
    "import numpy as np\n",
    "import matplotlib\n",
    "import matplotlib.pyplot as plt\n",
    "from scipy.ndimage import convolve\n",
    "from operator import itemgetter\n",
    "from itertools import groupby\n",
    "%matplotlib inline"
   ]
  },
  {
   "cell_type": "code",
   "execution_count": 204,
   "outputs": [],
   "source": [
    "class Ring:\n",
    "    def __init__(self, size, similarity_threshold = 0.5, neighbours_num = 1, races=2):\n",
    "        self.size = size\n",
    "        self.races = races\n",
    "        self.similarity_threshold = similarity_threshold\n",
    "        self.neighbours_num = neighbours_num\n",
    "        self.race_ring = []\n",
    "        self.satisfaction_ring = []\n",
    "        self.neigh_size = 2*self.neighbours_num + 1 # size of nieghbourhood\n",
    "        # CONSIDER SYSTEM WITH EMPTY SPOTS self.empty_ratio = empty_ratio\n",
    "        self.populate()\n",
    "        self.measure_satisfaction()\n",
    "\n",
    "    def populate(self):\n",
    "        #creates the self.ring structure - that's the initial and final thing we use\n",
    "        #the current sustem assumes we are only working with two races, and half are 0, half 1\n",
    "        #no empty spaces in this ring\n",
    "        half = int(self.size/2)\n",
    "        nodes = ([0]*half)+([1]*int(self.size - half))\n",
    "        random.shuffle(nodes)\n",
    "        self.race_ring = nodes\n",
    "\n",
    "    def measure_satisfaction(self):\n",
    "        self.satisfaction_ring = []\n",
    "        for position in range(len(self.race_ring)):\n",
    "            satisfaction = self.position_satisfaction(position)\n",
    "            self.satisfaction_ring.append(satisfaction)  \n",
    "\n",
    "    def get_neighbour_positions(self, position):\n",
    "        neigh_pos = range(position-self.neighbours_num, position+self.neighbours_num+1)\n",
    "        neigh_pos = list(map((lambda x: x%self.size), neigh_pos))\n",
    "        return neigh_pos\n",
    "\n",
    "    def get_neighbours(self, position):\n",
    "        neigh_pos = self.get_neighbour_positions(position)\n",
    "        neighbours = itemgetter(*neigh_pos)(self.race_ring)\n",
    "        return neighbours\n",
    "\n",
    "    def positional_percentage(self, position):\n",
    "        point_race = self.race_ring[position]\n",
    "        neighbours = self.get_neighbours(position)\n",
    "        if point_race == 0:\n",
    "            perc_same_race = neighbours.count(0)/self.neigh_size\n",
    "        else:\n",
    "            perc_same_race = neighbours.count(1)/self.neigh_size\n",
    "        \n",
    "        return perc_same_race\n",
    "\n",
    "    def position_satisfaction(self, position):\n",
    "        perc_same_race = self.positional_percentage(position)\n",
    "        if perc_same_race>self.similarity_threshold:\n",
    "            satisfaction = 1\n",
    "        else:\n",
    "            satisfaction = 0\n",
    "        return satisfaction\n",
    "\n",
    "    def opp_position_perc(self, position, other_swapper_position): \n",
    "        #the other swapper is for the case where something is swapping into the neighbourhood\n",
    "        #which changed the neighbourhood - but its a change that hasn't yet happened\n",
    "        #this is for when we decide to swap unsatisfied agents: we need to check if the new position\n",
    "        #has a higher similarity than thier current position\n",
    "        # but we need to account for the change in the neighbourhood they themselves cause\n",
    "        point_race = self.race_ring[position]\n",
    "        neighbours = self.get_neighbours(position)\n",
    "        neighbour_positions = self.get_neighbour_positions(position) #room for potential efficiency here\n",
    "        if other_swapper_position in neighbour_positions:\n",
    "            #WE NEED SOMETHING HERE TO WORK OUT IF WORTH CHANGE\n",
    "            if point_race == 0:\n",
    "                perc_opp_race = (neighbours.count(1))/self.neigh_size #calculated if the swap had happened\n",
    "            else: #point race is 1, so count how many 0's and add 1 due to the change\n",
    "                perc_opp_race = (neighbours.count(0))/self.neigh_size            \n",
    "        else:\n",
    "            if point_race == 0:\n",
    "                perc_opp_race = (neighbours.count(1)+1)/self.neigh_size #calculated if the swap had happened\n",
    "            else: #point race is 1, so count how many 0's and add 1 due to the change\n",
    "                perc_opp_race = (neighbours.count(0)+1)/self.neigh_size\n",
    "        return perc_opp_race\n",
    "\n",
    "    def get_unsat_pos(self):\n",
    "        #HMM THIS COULD DEFINITELY BE MADE MORE EFFICIENT\n",
    "        positions = [position for position, satisfaction in enumerate(self.satisfaction_ring) if satisfaction==0]\n",
    "        race0_positions = [position for position, race in enumerate(self.race_ring) if race==0]\n",
    "        race1_positions = [position for position, race in enumerate(self.race_ring) if race==1] ###\n",
    "        positions_0 = list(set(positions) & set(race0_positions))\n",
    "        positions_1 = list(set(positions) & set(race1_positions)) ###\n",
    "        return positions_0, positions_1\n",
    "\n",
    "    def update_neighbourhood(self, position):\n",
    "        neighbour_positions = self.get_neighbour_positions(position)\n",
    "        for neigh_position in neighbour_positions:\n",
    "            satisfaction = self.position_satisfaction(neigh_position)\n",
    "            self.satisfaction_ring[neigh_position] = satisfaction\n",
    "    \n",
    "    def swap(self, pos_0, pos_1):\n",
    "        #we update our two rings of race and satisfaction\n",
    "        #make the swap in the race_ring\n",
    "        self.race_ring[pos_0] = 1\n",
    "        self.race_ring[pos_1] = 0\n",
    "        #now we need to update the satisfaction ring\n",
    "        #to save computation we only want to update neighbourhood of swapped spots\n",
    "        self.update_neighbourhood(pos_0)\n",
    "        self.update_neighbourhood(pos_1)\n",
    "\n",
    "    def swap_feasable(self, swap0, swap1):\n",
    "        # long condition below is just : would each agent have 'better' neighbourhood after swap\n",
    "        # in the sense of higher percentage same race\n",
    "        curr_0_sat = self.positional_percentage(swap0)\n",
    "        swap_0_sat = self.opp_position_perc(swap1, swap0)\n",
    "        curr_1_sat = self.positional_percentage(swap1)\n",
    "        swap_1_sat = self.opp_position_perc(swap0, swap1)\n",
    "        #print('Curr0:', curr_0_sat, ' Swap0:', swap_0_sat)\n",
    "        #print('Curr1:', curr_1_sat, ' Swap1:', swap_1_sat)\n",
    "        if (curr_0_sat <= swap_0_sat) and (curr_1_sat <= swap_1_sat):\n",
    "            return True\n",
    "        else:\n",
    "            return False\n",
    "            \n",
    "    def iteration(self):\n",
    "        unsat0, unsat1 = self.get_unsat_pos()\n",
    "        if unsat0 == [] or unsat1 == []:\n",
    "            return 0 #We are using number to signify particular consequences\n",
    "        else:\n",
    "            swap0 = random.choice(unsat0)\n",
    "            swap1 = random.choice(unsat1)\n",
    "            if self.swap_feasable(swap0, swap1):\n",
    "                self.swap(swap0, swap1)\n",
    "                #print('swap made:', swap0, swap1)\n",
    "                return 1\n",
    "            else:\n",
    "                #print('neither wants the swap')\n",
    "                return 2\n",
    "            \n",
    "    def iteration_with_text(self):\n",
    "        unsat0, unsat1 = self.get_unsat_pos()\n",
    "        if unsat0 == [] or unsat1 == []:\n",
    "            print('One race is entirely satisfied')\n",
    "        else:\n",
    "            swap0 = random.choice(unsat0)\n",
    "            swap1 = random.choice(unsat1)\n",
    "            # long condition below is just : would each agent have 'better' neighbourhood after swap\n",
    "            # in the sense of higher percentage same race\n",
    "            curr_0_sat = self.positional_percentage(swap0)\n",
    "            swap_0_sat = self.opp_position_perc(swap1, swap0)\n",
    "            curr_1_sat = self.positional_percentage(swap1)\n",
    "            swap_1_sat = self.opp_position_perc(swap0, swap1)\n",
    "            print('Curr0:', curr_0_sat, ' Swap0:', swap_0_sat)\n",
    "            print('Curr1:', curr_1_sat, ' Swap1:', swap_1_sat)\n",
    "            if (curr_0_sat <= swap_0_sat) and (curr_1_sat <= swap_1_sat):\n",
    "                self.swap(swap0, swap1)\n",
    "                print('swap made:', swap0, swap1)\n",
    "                return True\n",
    "            else:\n",
    "                print('neither wants the swap')\n",
    "                return False\n",
    "\n",
    "    def check_stability(self):\n",
    "        unsat_0, unsat_1 = self.get_unsat_pos()\n",
    "        possible_swaps = 0\n",
    "        if unsat_0==[] or unsat_1==[]:\n",
    "            return possible_swaps\n",
    "        else:\n",
    "            for pos_0 in unsat_0:\n",
    "                for pos_1 in unsat_1:\n",
    "                    if self.swap_feasable(pos_0, pos_1):\n",
    "                        #print('there is a feasable swap:', pos_0, pos_1)\n",
    "                        possible_swaps += 1\n",
    "            return possible_swaps\n",
    "\n",
    "    def counting_streaks(self):\n",
    "        lst = []\n",
    "        for n,c in groupby(self.race_ring):\n",
    "           num,count = n,sum(1 for i in c)\n",
    "           lst.append((num,count))\n",
    "        #dealing with the case we have a streak through the ends of the ring\n",
    "        if (lst[0])[0] == (lst[-1])[0]:\n",
    "            total_wrap_around = (lst[0])[1] + (lst[-1])[1]\n",
    "            del lst[-1]\n",
    "            lst[0] = ((lst[0])[0], total_wrap_around)\n",
    "        #we might want to use segmented streaks later:\n",
    "        streaks_0 = [streak[1] for streak in lst if streak[0]==0]\n",
    "        streaks_1 = [streak[1] for streak in lst if streak[0]==1]\n",
    "        streaks_total = streaks_0 + streaks_1\n",
    "        return streaks_total        "
   ],
   "metadata": {
    "collapsed": false,
    "pycharm": {
     "name": "#%%\n",
     "is_executing": false
    }
   }
  },
  {
   "cell_type": "code",
   "execution_count": 205,
   "outputs": [],
   "source": [
    "def draw(ring):\n",
    "    race = np.array([ring.race_ring])\n",
    "    satisfaction = np.array([ring.satisfaction_ring])\n",
    "    plt.figure(figsize=(10,5))\n",
    "    #okay both binary and greyscal are doing things the flip way round. anoyingly\n",
    "    plt.matshow(race, cmap=plt.cm.binary);\n",
    "    plt.figure(figsize=(10,5))\n",
    "    plt.matshow(satisfaction)\n",
    "    plt.show()"
   ],
   "metadata": {
    "collapsed": false,
    "pycharm": {
     "name": "#%%\n",
     "is_executing": false
    }
   }
  },
  {
   "cell_type": "code",
   "execution_count": 190,
   "outputs": [
    {
     "name": "stdout",
     "text": [
      "populated\nupdated the whole satisfaction ring\n"
     ],
     "output_type": "stream"
    },
    {
     "data": {
      "text/plain": "<Figure size 720x360 with 0 Axes>"
     },
     "metadata": {},
     "output_type": "display_data"
    },
    {
     "data": {
      "text/plain": "<Figure size 1152x144 with 1 Axes>",
      "image/png": "[encoded data removed]"
     },
     "metadata": {
      "needs_background": "light"
     },
     "output_type": "display_data"
    },
    {
     "data": {
      "text/plain": "<Figure size 720x360 with 0 Axes>"
     },
     "metadata": {},
     "output_type": "display_data"
    },
    {
     "data": {
      "text/plain": "<Figure size 1152x144 with 1 Axes>",
      "image/png": "[encoded data removed]"
     },
     "metadata": {
      "needs_background": "light"
     },
     "output_type": "display_data"
    },
    {
     "data": {
      "text/plain": "([10, 11, 2, 4, 3, 2, 4, 9, 2, 3, 15, 3, 3, 2, 6, 2, 8, 2, 7, 2],\n [10, 11, 2, 4, 3, 2, 4, 9, 2, 3],\n [15, 3, 3, 2, 6, 2, 8, 2, 7, 2])"
     },
     "metadata": {},
     "output_type": "execute_result",
     "execution_count": 190
    }
   ],
   "source": [
    "london = Ring(100, 0.5, 1)\n",
    "for i in range(10000):\n",
    "    london.iteration()\n",
    "    \n",
    "draw(london)\n",
    "london.counting_streaks()\n"
   ],
   "metadata": {
    "collapsed": false,
    "pycharm": {
     "name": "#%%\n",
     "is_executing": false
    }
   }
  },
  {
   "cell_type": "code",
   "execution_count": 224,
   "outputs": [],
   "source": [
    "(size_of_ring, neighbours, iterations) = (500, 10, 1000)\n",
    "tolerance_levels = [0.05*i for i in range(21)]\n",
    "#for tolerance_level in tolerance_levels:\n",
    "tolerance_level = 0.67\n",
    "streaks = []\n",
    "for j in range(10):   \n",
    "    ring = Ring(size_of_ring, tolerance_level, neighbours)\n",
    "    while ring.check_stability()>2:\n",
    "        for i in range(iterations):\n",
    "            ring.iteration()\n",
    "    streaks = streaks + ring.counting_streaks()\n",
    "    print('next simulation')\n"
   ],
   "metadata": {
    "collapsed": false,
    "pycharm": {
     "name": "#%%\n",
     "is_executing": false
    }
   }
  },
  {
   "cell_type": "code",
   "execution_count": 225,
   "outputs": [
    {
     "name": "stdout",
     "text": [
      "[250, 250, 250, 250, 250, 250, 250, 250, 250, 250, 250, 250, 250, 250, 250, 250, 250, 250, 250, 250]\n"
     ],
     "output_type": "stream"
    },
    {
     "data": {
      "text/plain": "(array([ 0.,  0.,  0.,  0.,  0., 20.,  0.,  0.,  0.,  0.]),\n array([249.5, 249.6, 249.7, 249.8, 249.9, 250. , 250.1, 250.2, 250.3,\n        250.4, 250.5]),\n <a list of 10 Patch objects>)"
     },
     "metadata": {},
     "output_type": "execute_result",
     "execution_count": 225
    },
    {
     "data": {
      "text/plain": "<Figure size 432x288 with 1 Axes>",
      "image/png": "[encoded data removed]"
     },
     "metadata": {
      "needs_background": "light"
     },
     "output_type": "display_data"
    }
   ],
   "source": [
    "print(streaks)\n",
    "plt.hist(streaks)\n"
   ],
   "metadata": {
    "collapsed": false,
    "pycharm": {
     "name": "#%%\n",
     "is_executing": false
    }
   }
  },
  {
   "cell_type": "code",
   "execution_count": null,
   "outputs": [],
   "source": [
    "def beginning_experimentation(size_of_ring, neighbours, iterations):\n",
    "    tolerance_levels = [0.05*i for i in range(21)\n",
    "    for tolerance_level in tolerance_levels:\n",
    "        ring = Ring(size_of_ring, tolerance_level, neighbours)\n",
    "        while ring.check_stability()>2:\n",
    "            for i in range(iterations):\n",
    "                ring.iteration()\n",
    "        \n",
    "        \n",
    "    "
   ],
   "metadata": {
    "collapsed": false,
    "pycharm": {
     "name": "#%%\n"
    }
   }
  },
  {
   "cell_type": "code",
   "execution_count": null,
   "outputs": [],
   "source": [
    "\n"
   ],
   "metadata": {
    "collapsed": false,
    "pycharm": {
     "name": "#%%\n"
    }
   }
  }
 ],
 "metadata": {
  "kernelspec": {
   "display_name": "Python 3",
   "language": "python",
   "name": "python3"
  },
  "language_info": {
   "codemirror_mode": {
    "name": "ipython",
    "version": 2
   },
   "file_extension": ".py",
   "mimetype": "text/x-python",
   "name": "python",
   "nbconvert_exporter": "python",
   "pygments_lexer": "ipython2",
   "version": "2.7.6"
  },
  "pycharm": {
   "stem_cell": {
    "cell_type": "raw",
    "source": [],
    "metadata": {
     "collapsed": false
    }
   }
  }
 },
 "nbformat": 4,
 "nbformat_minor": 0
}