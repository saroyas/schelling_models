{
 "cells": [
  {
   "cell_type": "code",
   "execution_count": 1,
   "metadata": {
    "collapsed": true,
    "pycharm": {
     "is_executing": false
    }
   },
   "outputs": [],
   "source": [
    "import matplotlib.pyplot as plt\n",
    "import itertools\n",
    "import random\n",
    "import copy\n",
    "import numpy as np\n",
    "import matplotlib\n",
    "import matplotlib.pyplot as plt\n",
    "from scipy.ndimage import convolve\n",
    "from operator import itemgetter\n",
    "from itertools import groupby\n",
    "%matplotlib inline\n",
    "import statistics\n",
    "kappa = 0.353"
   ]
  },
  {
   "cell_type": "code",
   "execution_count": 2,
   "outputs": [],
   "source": [
    "class Ring:\n",
    "    def __init__(self, size, similarity_threshold = 0.5, neighbours_num = 1, races=2):\n",
    "        self.size = size\n",
    "        self.races = races\n",
    "        self.similarity_threshold = similarity_threshold\n",
    "        self.neighbours_num = neighbours_num\n",
    "        self.race_ring = []\n",
    "        self.satisfaction_ring = []\n",
    "        self.neigh_size = 2*self.neighbours_num + 1 # size of nieghbourhood\n",
    "        # CONSIDER SYSTEM WITH EMPTY SPOTS self.empty_ratio = empty_ratio\n",
    "        self.populate()\n",
    "        self.measure_satisfaction()\n",
    "\n",
    "    def populate(self):\n",
    "        #creates the self.ring structure - that's the initial and final thing we use\n",
    "        #the current sustem assumes we are only working with two races, and half are 0, half 1\n",
    "        #no empty spaces in this ring\n",
    "        half = int(self.size/2)\n",
    "        nodes = ([0]*half)+([1]*int(self.size - half))\n",
    "        random.shuffle(nodes)\n",
    "        self.race_ring = nodes\n",
    "\n",
    "    def measure_satisfaction(self):\n",
    "        self.satisfaction_ring = []\n",
    "        for position in range(len(self.race_ring)):\n",
    "            satisfaction = self.position_satisfaction(position)\n",
    "            self.satisfaction_ring.append(satisfaction)  \n",
    "\n",
    "    def get_neighbour_positions(self, position):\n",
    "        neigh_pos = range(position-self.neighbours_num, position+self.neighbours_num+1)\n",
    "        neigh_pos = list(map((lambda x: x%self.size), neigh_pos))\n",
    "        return neigh_pos\n",
    "\n",
    "    def get_neighbours(self, position):\n",
    "        neigh_pos = self.get_neighbour_positions(position)\n",
    "        neighbours = itemgetter(*neigh_pos)(self.race_ring)\n",
    "        return neighbours\n",
    "\n",
    "    def positional_percentage(self, position):\n",
    "        point_race = self.race_ring[position]\n",
    "        neighbours = self.get_neighbours(position)\n",
    "        if point_race == 0:\n",
    "            perc_same_race = neighbours.count(0)/self.neigh_size\n",
    "        else:\n",
    "            perc_same_race = neighbours.count(1)/self.neigh_size\n",
    "        \n",
    "        return perc_same_race\n",
    "\n",
    "    def position_satisfaction(self, position):\n",
    "        perc_same_race = self.positional_percentage(position)\n",
    "        if perc_same_race>self.similarity_threshold:\n",
    "            satisfaction = 1\n",
    "        else:\n",
    "            satisfaction = 0\n",
    "        return satisfaction\n",
    "\n",
    "    def opp_position_perc(self, position, other_swapper_position): \n",
    "        #the other swapper is for the case where something is swapping into the neighbourhood\n",
    "        #which changed the neighbourhood - but its a change that hasn't yet happened\n",
    "        #this is for when we decide to swap unsatisfied agents: we need to check if the new position\n",
    "        #has a higher similarity than thier current position\n",
    "        # but we need to account for the change in the neighbourhood they themselves cause\n",
    "        point_race = self.race_ring[position]\n",
    "        neighbours = self.get_neighbours(position)\n",
    "        neighbour_positions = self.get_neighbour_positions(position) #room for potential efficiency here\n",
    "        if other_swapper_position in neighbour_positions:\n",
    "            #WE NEED SOMETHING HERE TO WORK OUT IF WORTH CHANGE\n",
    "            if point_race == 0:\n",
    "                perc_opp_race = (neighbours.count(1))/self.neigh_size #calculated if the swap had happened\n",
    "            else: #point race is 1, so count how many 0's and add 1 due to the change\n",
    "                perc_opp_race = (neighbours.count(0))/self.neigh_size            \n",
    "        else:\n",
    "            if point_race == 0:\n",
    "                perc_opp_race = (neighbours.count(1)+1)/self.neigh_size #calculated if the swap had happened\n",
    "            else: #point race is 1, so count how many 0's and add 1 due to the change\n",
    "                perc_opp_race = (neighbours.count(0)+1)/self.neigh_size\n",
    "        return perc_opp_race\n",
    "\n",
    "    def get_unsat_pos(self):\n",
    "        #HMM THIS COULD DEFINITELY BE MADE MORE EFFICIENT\n",
    "        positions = [position for position, satisfaction in enumerate(self.satisfaction_ring) if satisfaction==0]\n",
    "        race0_positions = [position for position, race in enumerate(self.race_ring) if race==0]\n",
    "        race1_positions = [position for position, race in enumerate(self.race_ring) if race==1] ###\n",
    "        positions_0 = list(set(positions) & set(race0_positions))\n",
    "        positions_1 = list(set(positions) & set(race1_positions)) ###\n",
    "        return positions_0, positions_1\n",
    "\n",
    "    def update_neighbourhood(self, position):\n",
    "        neighbour_positions = self.get_neighbour_positions(position)\n",
    "        for neigh_position in neighbour_positions:\n",
    "            satisfaction = self.position_satisfaction(neigh_position)\n",
    "            self.satisfaction_ring[neigh_position] = satisfaction\n",
    "    \n",
    "    def swap(self, pos_0, pos_1):\n",
    "        #we update our two rings of race and satisfaction\n",
    "        #make the swap in the race_ring\n",
    "        self.race_ring[pos_0] = 1\n",
    "        self.race_ring[pos_1] = 0\n",
    "        #now we need to update the satisfaction ring\n",
    "        #to save computation we only want to update neighbourhood of swapped spots\n",
    "        self.update_neighbourhood(pos_0)\n",
    "        self.update_neighbourhood(pos_1)\n",
    "\n",
    "    def swap_feasable(self, swap0, swap1):\n",
    "        # long condition below is just : would each agent have 'better' neighbourhood after swap\n",
    "        # in the sense of higher percentage same race\n",
    "        curr_0_sat = self.positional_percentage(swap0)\n",
    "        swap_0_sat = self.opp_position_perc(swap1, swap0)\n",
    "        curr_1_sat = self.positional_percentage(swap1)\n",
    "        swap_1_sat = self.opp_position_perc(swap0, swap1)\n",
    "        #print('Curr0:', curr_0_sat, ' Swap0:', swap_0_sat)\n",
    "        #print('Curr1:', curr_1_sat, ' Swap1:', swap_1_sat)\n",
    "        if (curr_0_sat <= swap_0_sat) and (curr_1_sat <= swap_1_sat):\n",
    "            return True\n",
    "        else:\n",
    "            return False\n",
    "            \n",
    "    def iteration(self):\n",
    "        unsat0, unsat1 = self.get_unsat_pos()\n",
    "        if unsat0 == [] or unsat1 == []:\n",
    "            return 0 #We are using number to signify particular consequences\n",
    "        else:\n",
    "            swap0 = random.choice(unsat0)\n",
    "            swap1 = random.choice(unsat1)\n",
    "            if self.swap_feasable(swap0, swap1):\n",
    "                self.swap(swap0, swap1)\n",
    "                #print('swap made:', swap0, swap1)\n",
    "                return 1\n",
    "            else:\n",
    "                #print('neither wants the swap')\n",
    "                return 2\n",
    "            \n",
    "    def iteration_with_text(self):\n",
    "        unsat0, unsat1 = self.get_unsat_pos()\n",
    "        if unsat0 == [] or unsat1 == []:\n",
    "            print('One race is entirely satisfied')\n",
    "        else:\n",
    "            swap0 = random.choice(unsat0)\n",
    "            swap1 = random.choice(unsat1)\n",
    "            # long condition below is just : would each agent have 'better' neighbourhood after swap\n",
    "            # in the sense of higher percentage same race\n",
    "            curr_0_sat = self.positional_percentage(swap0)\n",
    "            swap_0_sat = self.opp_position_perc(swap1, swap0)\n",
    "            curr_1_sat = self.positional_percentage(swap1)\n",
    "            swap_1_sat = self.opp_position_perc(swap0, swap1)\n",
    "            print('Curr0:', curr_0_sat, ' Swap0:', swap_0_sat)\n",
    "            print('Curr1:', curr_1_sat, ' Swap1:', swap_1_sat)\n",
    "            if (curr_0_sat <= swap_0_sat) and (curr_1_sat <= swap_1_sat):\n",
    "                self.swap(swap0, swap1)\n",
    "                print('swap made:', swap0, swap1)\n",
    "                return True\n",
    "            else:\n",
    "                print('neither wants the swap')\n",
    "                return False\n",
    "\n",
    "    def check_stability(self):\n",
    "        unsat_0, unsat_1 = self.get_unsat_pos()\n",
    "        possible_swaps = 0\n",
    "        if unsat_0==[] or unsat_1==[]:\n",
    "            return possible_swaps\n",
    "        else:\n",
    "            for pos_0 in unsat_0:\n",
    "                for pos_1 in unsat_1:\n",
    "                    if self.swap_feasable(pos_0, pos_1):\n",
    "                        #print('there is a feasable swap:', pos_0, pos_1)\n",
    "                        possible_swaps += 1\n",
    "            return possible_swaps\n",
    "\n",
    "    def counting_streaks(self):\n",
    "        lst = []\n",
    "        for n,c in groupby(self.race_ring):\n",
    "           num,count = n,sum(1 for i in c)\n",
    "           lst.append((num,count))\n",
    "        #dealing with the case we have a streak through the ends of the ring\n",
    "        if (lst[0])[0] == (lst[-1])[0]:\n",
    "            total_wrap_around = (lst[0])[1] + (lst[-1])[1]\n",
    "            del lst[-1]\n",
    "            lst[0] = ((lst[0])[0], total_wrap_around)\n",
    "        #we might want to use segmented streaks later:\n",
    "        streaks_0 = [streak[1] for streak in lst if streak[0]==0]\n",
    "        streaks_1 = [streak[1] for streak in lst if streak[0]==1]\n",
    "        streaks_total = streaks_0 + streaks_1\n",
    "        return streaks_total        "
   ],
   "metadata": {
    "collapsed": false,
    "pycharm": {
     "name": "#%%\n",
     "is_executing": false
    }
   }
  },
  {
   "cell_type": "code",
   "execution_count": 3,
   "outputs": [],
   "source": [
    "def draw(ring):\n",
    "    race = np.array([ring.race_ring])\n",
    "    satisfaction = np.array([ring.satisfaction_ring])\n",
    "    plt.figure(figsize=(10,5))\n",
    "    #okay both binary and greyscal are doing things the flip way round. anoyingly\n",
    "    plt.matshow(race, cmap=plt.cm.binary);\n",
    "    plt.figure(figsize=(10,5))\n",
    "    plt.matshow(satisfaction)\n",
    "    plt.show()"
   ],
   "metadata": {
    "collapsed": false,
    "pycharm": {
     "name": "#%%\n",
     "is_executing": false
    }
   }
  },
  {
   "cell_type": "code",
   "execution_count": null,
   "outputs": [],
   "source": [],
   "metadata": {
    "collapsed": false,
    "pycharm": {
     "name": "#%%\n"
    }
   }
  },
  {
   "cell_type": "code",
   "execution_count": 8,
   "outputs": [],
   "source": [
    "def iter_fix_Size_Toler_Neighbourhood(size, similarity_threshold, neighhourhood_radius, tot_iterations = 100, step_size = 300):\n",
    "    #want we want is an accurate assesment of this fixed ring's final segregations streaks\n",
    "    #we are going to run (default) 100 simulations of the ring, each time getting the streak count\n",
    "    the_streak_dists = []\n",
    "    for i in range(tot_iterations):\n",
    "        london = Ring(size, similarity_threshold, neighhourhood_radius)\n",
    "        while london.check_stability()>2: # this checks whether the process can continue\n",
    "            for x in range(step_size):\n",
    "                london.iteration()\n",
    "            the_streak_dists = the_streak_dists + [london.counting_streaks()]\n",
    "        if i%10 ==0:\n",
    "            print(i, 'Iteration complete for nbrrad:', neighhourhood_radius)\n",
    "    return the_streak_dists\n",
    "\n",
    "\n",
    "def iter_fix_Size_Tolerance(size, similarity_threshold, nbr_sizes = [1,5,10,15,20], iterations_per_parameters = 30):\n",
    "    #okey, one level higher, we run through changing neighbourhood size\n",
    "    #this is the level of Brandt Immorilica etcs findings\n",
    "    nbr_size_Streaks = {}\n",
    "    for nbr_size in nbr_sizes:\n",
    "        the_streak_dists = iter_fix_Size_Toler_Neighbourhood(size, similarity_threshold, neighhourhood_radius = nbr_size, tot_iterations = iterations_per_parameters)\n",
    "        nbr_size_Streaks[nbr_size] = the_streak_dists\n",
    "        print('nbr size compllete', nbr_size )\n",
    "    #returns dictionary with streak results from each simulation for each nbr size\n",
    "    return nbr_size_Streaks\n",
    "\n",
    "def iter_fix_Size(size = 1000):\n",
    "    kappa = 0.353\n",
    "    thresholds = [kappa-0.02, kappa, kappa+0.02]+ [(kappa + (0.5-kappa)/2)] + [0.45, 0.5, 0.55] + [0.65] \n",
    "    nbr_sizes = [5,15]\n",
    "    threshold_nbr_streaks = {}\n",
    "    for threshold in thresholds:\n",
    "        threshold_nbr_streaks[threshold] = iter_fix_Size_Tolerance(size, threshold, nbr_sizes)\n",
    "        print('THRESHOLD COMPLETE:', threshold)\n",
    "        #dictionary above: for each threshold: {nbr_size: [[streaks of each simulation]]}\n",
    "    return threshold_nbr_streaks"
   ],
   "metadata": {
    "collapsed": false,
    "pycharm": {
     "name": "#%%\n",
     "is_executing": false
    }
   }
  },
  {
   "cell_type": "code",
   "execution_count": 9,
   "outputs": [],
   "source": [
    "def thres_nbr_streak_dists(threshold_nbr_streaks):\n",
    "    by_threshold = {}\n",
    "    for threshold in threshold_nbr_streaks.keys():\n",
    "        nbr_streaks = threshold_nbr_streaks[threshold]\n",
    "        by_nbr = {}\n",
    "        for nbr in nbr_streaks.keys():\n",
    "            iterations_results = nbr_streaks[nbr]\n",
    "            concat_iter_results = []\n",
    "            for results in iterations_results:\n",
    "                concat_iter_results = concat_iter_results + results\n",
    "            by_nbr[nbr] = concat_iter_results\n",
    "        by_threshold[threshold] = by_nbr\n",
    "    return by_threshold\n",
    "        "
   ],
   "metadata": {
    "collapsed": false,
    "pycharm": {
     "name": "#%%\n",
     "is_executing": false
    }
   }
  },
  {
   "cell_type": "code",
   "execution_count": 10,
   "outputs": [],
   "source": [
    "def draw_ring(by_threshold, threshold, neighbour):\n",
    "    data = (by_threshold[threshold])[neighbour]\n",
    "    plt.hist(data)\n",
    "    plt.show()\n"
   ],
   "metadata": {
    "collapsed": false,
    "pycharm": {
     "name": "#%%        \n",
     "is_executing": false
    }
   }
  },
  {
   "cell_type": "code",
   "execution_count": 11,
   "outputs": [
    {
     "name": "stdout",
     "text": [
      "0 Iteration complete for nbrrad: 5\n",
      "10 Iteration complete for nbrrad: 5\n",
      "20 Iteration complete for nbrrad: 5\n",
      "nbr size compllete 5\n0 Iteration complete for nbrrad: 15\n",
      "10 Iteration complete for nbrrad: 15\n",
      "20 Iteration complete for nbrrad: 15\n",
      "nbr size compllete 15\nTHRESHOLD COMPLETE: 0.33299999999999996\n0 Iteration complete for nbrrad: 5\n",
      "10 Iteration complete for nbrrad: 5\n",
      "20 Iteration complete for nbrrad: 5\n",
      "nbr size compllete 5\n0 Iteration complete for nbrrad: 15\n",
      "10 Iteration complete for nbrrad: 15\n",
      "20 Iteration complete for nbrrad: 15\n",
      "nbr size compllete 15\nTHRESHOLD COMPLETE: 0.353\n0 Iteration complete for nbrrad: 5\n",
      "10 Iteration complete for nbrrad: 5\n",
      "20 Iteration complete for nbrrad: 5\n",
      "nbr size compllete 5\n0 Iteration complete for nbrrad: 15\n",
      "10 Iteration complete for nbrrad: 15\n",
      "20 Iteration complete for nbrrad: 15\n",
      "nbr size compllete 15\nTHRESHOLD COMPLETE: 0.373\n0 Iteration complete for nbrrad: 5\n",
      "10 Iteration complete for nbrrad: 5\n",
      "20 Iteration complete for nbrrad: 5\n",
      "nbr size compllete 5\n",
      "0 Iteration complete for nbrrad: 15\n",
      "10 Iteration complete for nbrrad: 15\n",
      "20 Iteration complete for nbrrad: 15\n",
      "nbr size compllete 15\nTHRESHOLD COMPLETE: 0.4265\n0 Iteration complete for nbrrad: 5\n",
      "10 Iteration complete for nbrrad: 5\n",
      "20 Iteration complete for nbrrad: 5\n",
      "nbr size compllete 5\n",
      "0 Iteration complete for nbrrad: 15\n",
      "10 Iteration complete for nbrrad: 15\n",
      "20 Iteration complete for nbrrad: 15\n",
      "nbr size compllete 15\nTHRESHOLD COMPLETE: 0.45\n",
      "0 Iteration complete for nbrrad: 5\n",
      "10 Iteration complete for nbrrad: 5\n",
      "20 Iteration complete for nbrrad: 5\n",
      "nbr size compllete 5\n",
      "0 Iteration complete for nbrrad: 15\n",
      "10 Iteration complete for nbrrad: 15\n",
      "20 Iteration complete for nbrrad: 15\n",
      "nbr size compllete 15\nTHRESHOLD COMPLETE: 0.5\n",
      "0 Iteration complete for nbrrad: 5\n",
      "10 Iteration complete for nbrrad: 5\n",
      "20 Iteration complete for nbrrad: 5\n",
      "nbr size compllete 5\n",
      "0 Iteration complete for nbrrad: 15\n",
      "10 Iteration complete for nbrrad: 15\n",
      "20 Iteration complete for nbrrad: 15\n",
      "nbr size compllete 15\nTHRESHOLD COMPLETE: 0.55\n",
      "0 Iteration complete for nbrrad: 5\n",
      "10 Iteration complete for nbrrad: 5\n",
      "20 Iteration complete for nbrrad: 5\n",
      "nbr size compllete 5\n",
      "0 Iteration complete for nbrrad: 15\n",
      "10 Iteration complete for nbrrad: 15\n",
      "20 Iteration complete for nbrrad: 15\n",
      "nbr size compllete 15\nTHRESHOLD COMPLETE: 0.65\n"
     ],
     "output_type": "stream"
    }
   ],
   "source": [
    "threshold_nbr_streaks = iter_fix_Size(size = 1000)\n",
    "by_threshold = thres_nbr_streak_dists(threshold_nbr_streaks)\n",
    "thresholds = by_threshold.keys()\n"
   ],
   "metadata": {
    "collapsed": false,
    "pycharm": {
     "name": "#%% \n",
     "is_executing": false
    }
   }
  },
  {
   "cell_type": "code",
   "execution_count": 14,
   "outputs": [
    {
     "name": "stdout",
     "text": [
      "hello\njello\n"
     ],
     "output_type": "stream"
    }
   ],
   "source": [
    "print('hello')\n",
    "print('jello')"
   ],
   "metadata": {
    "collapsed": false,
    "pycharm": {
     "name": "#%%\n",
     "is_executing": false
    }
   }
  },
  {
   "cell_type": "code",
   "execution_count": 15,
   "outputs": [],
   "source": [
    "import json\n",
    "\n",
    "with open('sim1.json', 'w') as fp:\n",
    "    json.dump(threshold_nbr_streaks, fp)"
   ],
   "metadata": {
    "collapsed": false,
    "pycharm": {
     "name": "#%%\n",
     "is_executing": false
    }
   }
  },
  {
   "cell_type": "code",
   "execution_count": 16,
   "outputs": [
    {
     "name": "stdout",
     "text": [
      "hell\n"
     ],
     "output_type": "stream"
    }
   ],
   "source": [
    "print('hell')"
   ],
   "metadata": {
    "collapsed": false,
    "pycharm": {
     "name": "#%%\n",
     "is_executing": false
    }
   }
  },
  {
   "cell_type": "code",
   "execution_count": null,
   "outputs": [],
   "source": [
    "draw_ring(by_threshold, thresholds[0], neighbour=15)\n",
    "\n",
    "        "
   ],
   "metadata": {
    "collapsed": false,
    "pycharm": {
     "name": "#%% \n"
    }
   }
  },
  {
   "cell_type": "code",
   "execution_count": null,
   "outputs": [],
   "source": [
    "'''\n",
    "\n",
    "nbr_size_Streaks = iter_fix_Size_Tolerance(400, similarity_threshold = 0.5, nbr_sizes = [5,10,20,30,40,50,60,70,80])\n",
    "\n",
    "\n",
    "def streaks_to_max_avg(nbr_size_Streaks): # input is the result from iter_fix_size_tolerance\n",
    "    nbr_avg_max_streak = []\n",
    "    for nbr_size in nbr_size_Streaks.keys():\n",
    "        streaks = nbr_size_Streaks[nbr_size]\n",
    "        avg_max_streak = statistics.mean([max(x) for x in streaks])\n",
    "        nbr_avg_max_streak.append((nbr_size, avg_max_streak))\n",
    "    return nbr_avg_max_streak\n",
    "\n",
    "\n",
    "nbr_avg_max_streak = streaks_to_max_avg(nbr_size_Streaks)\n",
    "\n",
    "\n",
    "x = [tup[0] for tup in nbr_avg_max_streak]\n",
    "y = [tup[1] for tup in nbr_avg_max_streak]\n",
    "plt.scatter(x,y)\n",
    "\n",
    "\n",
    "def Brandt_Immonica_etc(size = 300, similarity_threshold = 0.5, nbr_sizes = [10*i for i in range(31)]):\n",
    "    nbr_size_Streaks = iter_fix_Size_Tolerance(size, similarity_threshold, nbr_sizes)\n",
    "    for nbr_size in \n",
    "\n",
    "\n",
    "\n",
    "(size_of_ring, neighbours, iterations) = (500, 10, 1000)\n",
    "tolerance_levels = [0.05*i for i in range(21)]\n",
    "#for tolerance_level in tolerance_levels:\n",
    "tolerance_level = 0.67\n",
    "streaks = []\n",
    "for j in range(10):   \n",
    "    ring = Ring(size_of_ring, tolerance_level, neighbours)\n",
    "    while ring.check_stability()>2:\n",
    "        for i in range(iterations):\n",
    "            ring.iteration()\n",
    "    streaks = streaks + ring.counting_streaks()\n",
    "    print('next simulation')\n",
    "\n",
    "\n",
    "print(streaks)\n",
    "plt.hist(streaks)\n",
    "\n",
    "\n",
    "def beginning_experimentation(size_of_ring, neighbours, iterations):\n",
    "    tolerance_levels = [0.05*i for i in range(21)\n",
    "    for tolerance_level in tolerance_levels:\n",
    "        ring = Ring(size_of_ring, tolerance_level, neighbours)\n",
    "        while ring.check_stability()>2:\n",
    "            for i in range(iterations):\n",
    "                ring.iteration()\n",
    "        \n",
    "        \n",
    " \n",
    "\n",
    "\n",
    "\n",
    "'''"
   ],
   "metadata": {
    "collapsed": false,
    "pycharm": {
     "name": "#%%       \n"
    }
   }
  },
  {
   "cell_type": "code",
   "execution_count": null,
   "outputs": [],
   "source": [
    "\n"
   ],
   "metadata": {
    "collapsed": false,
    "pycharm": {
     "name": "#%%\n"
    }
   }
  }
 ],
 "metadata": {
  "kernelspec": {
   "display_name": "Python 3",
   "language": "python",
   "name": "python3"
  },
  "language_info": {
   "codemirror_mode": {
    "name": "ipython",
    "version": 2
   },
   "file_extension": ".py",
   "mimetype": "text/x-python",
   "name": "python",
   "nbconvert_exporter": "python",
   "pygments_lexer": "ipython2",
   "version": "2.7.6"
  },
  "pycharm": {
   "stem_cell": {
    "cell_type": "raw",
    "source": [],
    "metadata": {
     "collapsed": false
    }
   }
  }
 },
 "nbformat": 4,
 "nbformat_minor": 0
}