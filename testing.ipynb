{
 "cells": [
  {
   "cell_type": "code",
   "execution_count": 1,
   "metadata": {
    "collapsed": true,
    "pycharm": {
     "is_executing": false
    }
   },
   "outputs": [],
   "source": [
    "import matplotlib.pyplot as plt\n",
    "import itertools\n",
    "import random\n",
    "import copy\n",
    "import numpy as np\n",
    "import matplotlib\n",
    "import matplotlib.pyplot as plt\n",
    "from scipy.ndimage import convolve"
   ]
  },
  {
   "cell_type": "code",
   "execution_count": 20,
   "outputs": [],
   "source": [
    "class City:\n",
    "    def __init__(self, width, height, empty_ratio, similarity_threshold, n_iterations, races=2):\n",
    "        self.width = width\n",
    "        self.height = height\n",
    "        self.races = races\n",
    "        self.empty_ratio = empty_ratio\n",
    "        self.similarity_threshold = similarity_threshold\n",
    "        self.n_iterations = n_iterations\n",
    "        self.empty_houses = []\n",
    "        self.grid = np.matrix\n",
    "        self.zero = np.zeros((self.height, self.width))\n",
    "\n",
    "    def populate(self):\n",
    "        #a list of tuples that represent each available city coord\n",
    "        self.all_houses = list(itertools.product(range(self.width), range(self.height)))\n",
    "        random.shuffle(self.all_houses)\n",
    "\n",
    "        self.n_empty = int(self.empty_ratio * len(self.all_houses))\n",
    "        self.empty_houses = self.all_houses[:self.n_empty] # all these are going to get 0 in matrix\n",
    "        self.remaining_houses = self.all_houses[self.n_empty:] #the race they are value to these coords\n",
    "        #[i::self.races] just causes the list to assign i to each '2nd - self.races' value. [0,1,0,1,0,1..] - I think\n",
    "        houses_by_race = [self.remaining_houses[i::self.races] for i in range(self.races)]\n",
    "        #okay, so now we have a list of lists, one for each race - containing which house has that race\n",
    "        grid = self.zero.copy()\n",
    "        grid = list(grid)\n",
    "        for race in range(self.races):\n",
    "            house_of_race = houses_by_race[race]\n",
    "            for (a,b) in house_of_race:\n",
    "                grid[a][b] = race+1\n",
    "        self.grid = np.matrix(grid)\n",
    "        \n",
    "    def neighbours(self, grid):\n",
    "        #if ever we consider a race fluid model: Convolution can work here when calculating satifaction\n",
    "        (x,y) = coord\n",
    "        #there is potential here for expansion to a larger nieghbourhood when considering satisfaction\n",
    "        verts = [(x+1, y+1),(x+1, y),(x+1, y-1),(x, y+1),(x, y-1),(x-1, y+1),(x-1, y),(x-1, y-1)]\n",
    "        verts = list(filter(lambda vert: (vert[0]>=0 and vert[1]>=0) and (vert[0]<self.height and vert[1]<self.width), verts))\n",
    "        neighbors = [(grid[a][b]) for (a,b) in verts]\n",
    "        \n",
    "    def nieghbors_perc(self, coord, grid): # TODO: rename to percent neighbours\n",
    "        (x,y) = coord\n",
    "        #there is potential here for expansion to a larger nieghbourhood when considering satisfaction\n",
    "        verts = [(x+1, y+1),(x+1, y),(x+1, y-1),(x, y+1),(x, y-1),(x-1, y+1),(x-1, y),(x-1, y-1)]\n",
    "        verts = list(filter(lambda vert: (vert[0]>=0 and vert[1]>=0) and (vert[0]<self.height and vert[1]<self.width), verts))\n",
    "        neighbors = [(grid[a][b]) for (a,b) in verts]\n",
    "        counts = [] # the index here works counts[0] is how many of race 1\n",
    "        for race in range(self.races):\n",
    "            counts = counts + [neighbors.count(race+1)]\n",
    "        total = len(neighbors) # sum(counts)\n",
    "        if total!=0:\n",
    "            proportions = [counts[i]/total for i in range(self.races)]\n",
    "        else:\n",
    "            print('ERROR: No neighbors')\n",
    "            proportions = [0 for i in range(self.races)]\n",
    "        return proportions, neighbors, verts\n",
    "        #we must think wether we should segment neighbour finding etc to a different def\n",
    "    \n",
    "    def is_unsatisfied(self, coord, own_race, grid):\n",
    "        proportions, neighbors, verts = self.nieghbors_perc(coord, grid)\n",
    "        satisfaction = proportions[int(own_race-1)]\n",
    "        #so currently everyone only makes a distinction between own race and other\n",
    "        #and a empty spot is exactly the same as a full one, with other race\n",
    "\n",
    "        return satisfaction, neighbors, verts\n",
    "    \n",
    "    def update_coord(self, coord, grid):\n",
    "        (x,y) = coord\n",
    "        own_race = self.grid[x,y]\n",
    "        if own_race != 0:\n",
    "            satisfaction, neighbors, verts = self.is_unsatisfied(coord, own_race, grid)\n",
    "            if satisfaction<self.similarity_threshold:\n",
    "                zero_neigh = [i for i,x in enumerate(neighbors) if x == 0]\n",
    "                if zero_neigh !=[]:\n",
    "                    avl_coords = [verts[i] for i in zero_neigh]\n",
    "                    (a,b) = random.choice(avl_coords)\n",
    "                    grid[a][b] = own_race\n",
    "                    grid[x][y] = 0\n",
    "        return grid\n",
    "        \n",
    "    def update_all(self):\n",
    "        grid = self.grid.tolist()\n",
    "        currently_occupied = np.nonzero(grid)\n",
    "        currently_occupied = zip(currently_occupied[0], currently_occupied[1])\n",
    "        for house in currently_occupied:\n",
    "            grid = self.update_coord(house, grid)\n",
    "        self.grid = np.matrix(grid)\n",
    "        \n",
    "    def plot(self):\n",
    "        colors = 'black red blue magenta yellow'.split()\n",
    "        cmap = matplotlib.colors.ListedColormap(colors, name='colors', N=None)\n",
    "\n",
    "        plt.imshow(london.grid, cmap=cmap)\n",
    "        plt.show()\n",
    "        "
   ],
   "metadata": {
    "collapsed": false,
    "pycharm": {
     "name": "#%%\n",
     "is_executing": false
    }
   }
  },
  {
   "cell_type": "code",
   "execution_count": 30,
   "outputs": [
    {
     "data": {
      "text/plain": "<Figure size 432x288 with 1 Axes>",
      "image/png": "[encoded data removed]"
     },
     "metadata": {
      "needs_background": "light"
     },
     "output_type": "display_data"
    },
    {
     "name": "stdout",
     "text": [
      "720\n"
     ],
     "output_type": "stream"
    }
   ],
   "source": [
    "london = City(30,30,0.2, 0.5, 100, 2)\n",
    "london.populate()\n",
    "london.plot()\n",
    "print(len(np.nonzero(london.grid)[1]))"
   ],
   "metadata": {
    "collapsed": false,
    "pycharm": {
     "name": "#%%\n",
     "is_executing": false
    }
   }
  },
  {
   "cell_type": "code",
   "execution_count": 31,
   "outputs": [
    {
     "data": {
      "text/plain": "<Figure size 432x288 with 1 Axes>",
      "image/png": "[encoded data removed]"
     },
     "metadata": {
      "needs_background": "light"
     },
     "output_type": "display_data"
    }
   ],
   "source": [
    "london.update_all()\n",
    "london.plot()"
   ],
   "metadata": {
    "collapsed": false,
    "pycharm": {
     "name": "#%%\n",
     "is_executing": false
    }
   }
  },
  {
   "cell_type": "code",
   "execution_count": 34,
   "outputs": [
    {
     "name": "stdout",
     "text": [
      "720\n"
     ],
     "output_type": "stream"
    }
   ],
   "source": [
    "for i in range(1000):\n",
    "    london.update_all()\n",
    "\n",
    "print(len(np.nonzero(london.grid)[1]))"
   ],
   "metadata": {
    "collapsed": false,
    "pycharm": {
     "name": "#%%\n",
     "is_executing": false
    }
   }
  },
  {
   "cell_type": "code",
   "execution_count": 35,
   "outputs": [
    {
     "data": {
      "text/plain": "<Figure size 432x288 with 1 Axes>",
      "image/png": "[encoded data removed]"
     },
     "metadata": {
      "needs_background": "light"
     },
     "output_type": "display_data"
    }
   ],
   "source": [
    "london.plot()\n"
   ],
   "metadata": {
    "collapsed": false,
    "pycharm": {
     "name": "#%%\n",
     "is_executing": false
    }
   }
  },
  {
   "cell_type": "code",
   "execution_count": null,
   "outputs": [],
   "source": [
    "\n"
   ],
   "metadata": {
    "collapsed": false,
    "pycharm": {
     "name": "#%%\n"
    }
   }
  }
 ],
 "metadata": {
  "kernelspec": {
   "display_name": "Python 3",
   "language": "python",
   "name": "python3"
  },
  "language_info": {
   "codemirror_mode": {
    "name": "ipython",
    "version": 2
   },
   "file_extension": ".py",
   "mimetype": "text/x-python",
   "name": "python",
   "nbconvert_exporter": "python",
   "pygments_lexer": "ipython2",
   "version": "2.7.6"
  },
  "pycharm": {
   "stem_cell": {
    "cell_type": "raw",
    "source": [],
    "metadata": {
     "collapsed": false
    }
   }
  }
 },
 "nbformat": 4,
 "nbformat_minor": 0
}